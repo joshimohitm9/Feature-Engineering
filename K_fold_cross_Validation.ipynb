{
  "nbformat": 4,
  "nbformat_minor": 0,
  "metadata": {
    "colab": {
      "provenance": [],
      "authorship_tag": "ABX9TyN+Y4e9deRMgoYlE2VfZLLL",
      "include_colab_link": true
    },
    "kernelspec": {
      "name": "python3",
      "display_name": "Python 3"
    },
    "language_info": {
      "name": "python"
    }
  },
  "cells": [
    {
      "cell_type": "markdown",
      "metadata": {
        "id": "view-in-github",
        "colab_type": "text"
      },
      "source": [
        "<a href=\"https://colab.research.google.com/github/joshimohitm9/Feature-Engineering/blob/main/K_fold_cross_Validation.ipynb\" target=\"_parent\"><img src=\"https://colab.research.google.com/assets/colab-badge.svg\" alt=\"Open In Colab\"/></a>"
      ]
    },
    {
      "cell_type": "code",
      "execution_count": null,
      "metadata": {
        "id": "TkQqbFcILJYM"
      },
      "outputs": [],
      "source": [
        "import pandas as pd\n",
        "import numpy as np\n",
        "from sklearn.linear_model import LogisticRegression\n",
        "from sklearn.ensemble import RandomForestClassifier\n",
        "from sklearn.svm import SVC\n",
        "from sklearn.datasets import load_digits\n",
        "from sklearn.model_selection import train_test_split\n",
        "from sklearn.tree import DecisionTreeClassifier\n",
        "digits=load_digits()\n",
        "dir(digits)\n",
        "import warnings\n",
        "warnings.filterwarnings(\"ignore\")"
      ]
    },
    {
      "cell_type": "code",
      "source": [
        "x=pd.DataFrame(digits[\"data\"],columns=digits[\"feature_names\"])\n",
        "y=pd.DataFrame(digits[\"target\"],columns=[\"target\"])\n",
        "x_train,x_test,y_train,y_test=train_test_split(x,y,test_size=0.3)"
      ],
      "metadata": {
        "id": "N9CtJFjlQsUP"
      },
      "execution_count": null,
      "outputs": []
    },
    {
      "cell_type": "code",
      "source": [
        "lr=LogisticRegression()\n",
        "lr.fit(x_train,y_train)\n",
        "lr.score(x_test,y_test)"
      ],
      "metadata": {
        "colab": {
          "base_uri": "https://localhost:8080/"
        },
        "id": "mT2buFnpSZ9D",
        "outputId": "6a577d18-3930-4615-d465-975f39528581"
      },
      "execution_count": null,
      "outputs": [
        {
          "output_type": "execute_result",
          "data": {
            "text/plain": [
              "0.9648148148148148"
            ]
          },
          "metadata": {},
          "execution_count": 3
        }
      ]
    },
    {
      "cell_type": "code",
      "source": [
        "svm=SVC(kernel=\"linear\")\n",
        "svm.fit(x_train,y_train)\n",
        "svm.score(x_test,y_test)"
      ],
      "metadata": {
        "colab": {
          "base_uri": "https://localhost:8080/"
        },
        "id": "ItIJTltaSjsp",
        "outputId": "0955b0ec-641b-4031-a00d-f204f085f4bb"
      },
      "execution_count": null,
      "outputs": [
        {
          "output_type": "execute_result",
          "data": {
            "text/plain": [
              "0.975925925925926"
            ]
          },
          "metadata": {},
          "execution_count": 4
        }
      ]
    },
    {
      "cell_type": "code",
      "source": [
        "rf=RandomForestClassifier(n_estimators=100)\n",
        "rf.fit(x_train,y_train)\n",
        "rf.score(x_test,y_test)"
      ],
      "metadata": {
        "colab": {
          "base_uri": "https://localhost:8080/"
        },
        "id": "Et9irkscTPXd",
        "outputId": "5a10ac81-d9e9-41cb-aabf-9c5e8c593c2c"
      },
      "execution_count": null,
      "outputs": [
        {
          "output_type": "execute_result",
          "data": {
            "text/plain": [
              "0.9703703703703703"
            ]
          },
          "metadata": {},
          "execution_count": 5
        }
      ]
    },
    {
      "cell_type": "code",
      "source": [
        "dt=DecisionTreeClassifier()\n",
        "dt.fit(x_train,y_train)\n",
        "dt.score(x_test,y_test)"
      ],
      "metadata": {
        "colab": {
          "base_uri": "https://localhost:8080/"
        },
        "id": "RUKOjfUFYt1O",
        "outputId": "5b3fa6ae-6d7b-4ab3-cebd-cee8cfd6903d"
      },
      "execution_count": null,
      "outputs": [
        {
          "output_type": "execute_result",
          "data": {
            "text/plain": [
              "0.8537037037037037"
            ]
          },
          "metadata": {},
          "execution_count": 6
        }
      ]
    },
    {
      "cell_type": "code",
      "source": [
        "from sklearn.model_selection import KFold\n",
        "kf=KFold(n_splits=3)\n",
        "kf"
      ],
      "metadata": {
        "id": "NhQE73qWTV8M",
        "colab": {
          "base_uri": "https://localhost:8080/"
        },
        "outputId": "85532336-7cd1-4ec0-a969-5b52b9578474"
      },
      "execution_count": null,
      "outputs": [
        {
          "output_type": "execute_result",
          "data": {
            "text/plain": [
              "KFold(n_splits=3, random_state=None, shuffle=False)"
            ]
          },
          "metadata": {},
          "execution_count": 7
        }
      ]
    },
    {
      "cell_type": "code",
      "source": [
        "def mohit(model,x_train,x_test,y_train,y_test):\n",
        "  model.fit(x_train,y_train)\n",
        "  return model.score(x_test,y_test)\n"
      ],
      "metadata": {
        "id": "clgTC2K5Ubgv"
      },
      "execution_count": null,
      "outputs": []
    },
    {
      "cell_type": "code",
      "source": [
        "mohit(rf,x_train,x_test,y_train,y_test)"
      ],
      "metadata": {
        "colab": {
          "base_uri": "https://localhost:8080/"
        },
        "id": "cDVpDmNzVAyB",
        "outputId": "5a54901c-799b-4de1-c3ef-27b9cd3beb94"
      },
      "execution_count": null,
      "outputs": [
        {
          "output_type": "execute_result",
          "data": {
            "text/plain": [
              "0.9703703703703703"
            ]
          },
          "metadata": {},
          "execution_count": 9
        }
      ]
    },
    {
      "cell_type": "code",
      "source": [
        "mohit(svm,x_train,x_test,y_train,y_test)"
      ],
      "metadata": {
        "colab": {
          "base_uri": "https://localhost:8080/"
        },
        "id": "rTupmlqeV1fq",
        "outputId": "e55ac552-34d9-4954-c5a1-c6435865e398"
      },
      "execution_count": null,
      "outputs": [
        {
          "output_type": "execute_result",
          "data": {
            "text/plain": [
              "0.975925925925926"
            ]
          },
          "metadata": {},
          "execution_count": 10
        }
      ]
    },
    {
      "cell_type": "code",
      "source": [
        "mohit(lr,x_train,x_test,y_train,y_test)"
      ],
      "metadata": {
        "colab": {
          "base_uri": "https://localhost:8080/"
        },
        "id": "-j_fR0NlW0Xk",
        "outputId": "5ca93406-0046-4369-bfed-64d940ca81df"
      },
      "execution_count": null,
      "outputs": [
        {
          "output_type": "execute_result",
          "data": {
            "text/plain": [
              "0.9648148148148148"
            ]
          },
          "metadata": {},
          "execution_count": 11
        }
      ]
    },
    {
      "cell_type": "code",
      "source": [
        "mohit(dt,x_train,x_test,y_train,y_test)"
      ],
      "metadata": {
        "colab": {
          "base_uri": "https://localhost:8080/"
        },
        "id": "ISg-rZH8ZjEO",
        "outputId": "69439848-d76e-407e-e44d-f973208e26f0"
      },
      "execution_count": null,
      "outputs": [
        {
          "output_type": "execute_result",
          "data": {
            "text/plain": [
              "0.8574074074074074"
            ]
          },
          "metadata": {},
          "execution_count": 12
        }
      ]
    },
    {
      "cell_type": "code",
      "source": [
        "abc=[lr,rf,dt,svm]\n",
        "for i in abc:\n",
        "  print(i)\n",
        "  i.fit(x_train,y_train)\n",
        "  print(i.score(x_test,y_test))\n",
        "  print(\"__________________\")\n"
      ],
      "metadata": {
        "colab": {
          "base_uri": "https://localhost:8080/"
        },
        "id": "qSlGOmJ4afm6",
        "outputId": "185004db-6b41-4bd8-a04e-a58caed843bb"
      },
      "execution_count": null,
      "outputs": [
        {
          "output_type": "stream",
          "name": "stdout",
          "text": [
            "LogisticRegression()\n",
            "0.9648148148148148\n",
            "__________________\n",
            "RandomForestClassifier()\n",
            "0.9796296296296296\n",
            "__________________\n",
            "DecisionTreeClassifier()\n",
            "0.8296296296296296\n",
            "__________________\n",
            "SVC(kernel='linear')\n",
            "0.975925925925926\n",
            "__________________\n"
          ]
        }
      ]
    },
    {
      "cell_type": "code",
      "source": [
        "from sklearn.model_selection import cross_val_score"
      ],
      "metadata": {
        "id": "sfK5OVLTW3F_"
      },
      "execution_count": null,
      "outputs": []
    },
    {
      "cell_type": "code",
      "source": [
        "abc=[lr,rf,dt,svm]\n",
        "for i in abc:\n",
        "  print(i)\n",
        "  print(cross_val_score(i,x_train,y_train,cv=5))\n",
        "  print(\"__AVERAGE___\")\n",
        "  print(np.average(cross_val_score(i,x_train,y_train,cv=5)))\n",
        "  print(\"_____________________________________________________\")\n"
      ],
      "metadata": {
        "colab": {
          "base_uri": "https://localhost:8080/"
        },
        "id": "MbfMP3epXWx_",
        "outputId": "f7747efe-eb55-4426-ad43-d0960a549c37"
      },
      "execution_count": null,
      "outputs": [
        {
          "output_type": "stream",
          "name": "stdout",
          "text": [
            "LogisticRegression()\n",
            "[0.96428571 0.95634921 0.96015936 0.9561753  0.94820717]\n",
            "__AVERAGE___\n",
            "0.9570353506608488\n",
            "_____________________________________________________\n",
            "RandomForestClassifier()\n",
            "[0.98015873 0.96825397 0.96414343 0.97609562 0.9561753 ]\n",
            "__AVERAGE___\n",
            "0.9681685954594321\n",
            "_____________________________________________________\n",
            "DecisionTreeClassifier()\n",
            "[0.80952381 0.81746032 0.80478088 0.87649402 0.8247012 ]\n",
            "__AVERAGE___\n",
            "0.8289729969012838\n",
            "_____________________________________________________\n",
            "SVC(kernel='linear')\n",
            "[0.99206349 0.99603175 0.98406375 0.98007968 0.96812749]\n",
            "__AVERAGE___\n",
            "0.9840732308859799\n",
            "_____________________________________________________\n"
          ]
        }
      ]
    },
    {
      "cell_type": "code",
      "source": [
        "from sklearn.model_selection import cross_val_score\n",
        "a=cross_val_score(lr,x_train,y_train)\n",
        "print(a)\n",
        "print(\"__avg__\")\n",
        "np.average(a)\n"
      ],
      "metadata": {
        "colab": {
          "base_uri": "https://localhost:8080/"
        },
        "id": "xNh3L94SX6jt",
        "outputId": "17390a59-e5cd-43ed-c3ea-e355d0bb5b6e"
      },
      "execution_count": null,
      "outputs": [
        {
          "output_type": "stream",
          "name": "stdout",
          "text": [
            "[0.96428571 0.95634921 0.96015936 0.9561753  0.94820717]\n",
            "__avg__\n"
          ]
        },
        {
          "output_type": "execute_result",
          "data": {
            "text/plain": [
              "0.9570353506608488"
            ]
          },
          "metadata": {},
          "execution_count": 18
        }
      ]
    },
    {
      "cell_type": "code",
      "source": [],
      "metadata": {
        "id": "JN1O9-cpdZsT"
      },
      "execution_count": null,
      "outputs": []
    }
  ]
}